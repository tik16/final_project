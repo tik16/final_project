{
 "cells": [
  {
   "cell_type": "code",
   "execution_count": 1,
   "id": "4517c1ec",
   "metadata": {},
   "outputs": [],
   "source": [
    "import streamlit as st\n",
    "import pandas as pd\n",
    "import numpy as np\n",
    "import seaborn as sns\n",
    "import matplotlib.pyplot as plt\n",
    "import altair as alt\n",
    "import plotly.graph_objects as go\n",
    "import plotly_express as px\n",
    "import geopy\n",
    "from geopy.extra.rate_limiter import  RateLimiter\n",
    "import geopandas\n",
    "import folium\n",
    "from folium.plugins import MarkerCluster\n",
    "from streamlit_folium import folium_static\n",
    "from selenium import webdriver\n",
    "from selenium.webdriver.chrome.service import Service\n",
    "from webdriver_manager.chrome import ChromeDriverManager\n",
    "from selenium.webdriver.common.by import By\n",
    "from time import sleep"
   ]
  },
  {
   "cell_type": "code",
   "execution_count": 2,
   "id": "0177e4a4",
   "metadata": {},
   "outputs": [],
   "source": [
    "def get_film_data(title):\n",
    "    if(not title):\n",
    "        return None\n",
    "\n",
    "    driver = webdriver.Chrome(service=Service(ChromeDriverManager().install()))\n",
    "    driver.get(\"https://www.imdb.com/\")\n",
    "\n",
    "    search_box = (driver\n",
    "                  .find_element(By.CSS_SELECTOR, \"div.react-autosuggest__container\")\n",
    "                  .find_element(By.TAG_NAME, \"input\"))\n",
    "    search_box.send_keys(title)\n",
    "    sleep(2)\n",
    "\n",
    "    first_result = driver.find_element(By.CSS_SELECTOR, \"a.sc-bqyKva.ehfErK.searchResult.searchResult--const\")\n",
    "    first_result.click()\n",
    "    sleep(2)\n",
    "\n",
    "    film_url = driver.current_url\n",
    "\n",
    "    director = driver.find_element(By.CSS_SELECTOR, \"div.ipc-metadata-list-item__content-container\")\n",
    "    director_name = director.find_element(By.TAG_NAME, \"a\")\n",
    "\n",
    "    cast_page = (driver\n",
    "                 .find_element(By.CSS_SELECTOR, \"div.ipc-title__wrapper\")\n",
    "                 .find_element(By.TAG_NAME, \"a\"))\n",
    "    cast_page.click()\n",
    "    sleep(1)\n",
    "\n",
    "    cast_table = driver.find_element(By.CSS_SELECTOR, \"table.cast_list\").find_element(By.TAG_NAME, \"tbody\")\n",
    "    cast_list = cast_table.find_elements(By.TAG_NAME, \"tr\")\n",
    "\n",
    "    actors_names = []\n",
    "    for actor in cast_list[1:]:\n",
    "        el_class = actor.get_attribute(\"class\")\n",
    "        if (el_class != \"odd\" and el_class != \"even\"):\n",
    "            break\n",
    "        actor_name = actor.find_elements(By.TAG_NAME, \"td\")[1].find_element(By.TAG_NAME, \"a\").text\n",
    "        actors_names.append(actor_name)\n",
    "\n",
    "    return [actors_names, film_url]\n",
    "\n",
    "def get_locations(film_url):\n",
    "    driver = webdriver.Chrome(service=Service(ChromeDriverManager().install()))\n",
    "    driver.get(film_url)\n",
    "    sleep(1)\n",
    "\n",
    "    details = driver.find_element(By.CSS_SELECTOR, '[data-testid=\"title-details-section\"]')\n",
    "    filming_locations = details.find_element(By.CSS_SELECTOR, '[data-testid=\"title-details-filminglocations\"]')\n",
    "    loc = filming_locations.find_element(By.CSS_SELECTOR,\n",
    "                                         \"a.ipc-metadata-list-item__label.ipc-metadata-list-item__label--link\")\n",
    "    loc.click()\n",
    "    loc = driver.find_element(By.ID, \"filming_locations\")\n",
    "    pr = loc.find_elements(By.TAG_NAME, \"div\")\n",
    "    all_locations = []\n",
    "    for el in pr:\n",
    "        el_class = el.get_attribute(\"class\")\n",
    "        if (el_class != \"soda sodavote odd\" and el_class != \"soda sodavote even\"):\n",
    "            continue\n",
    "        all_locations.append(el.find_element(By.TAG_NAME, \"dt\").find_element(By.TAG_NAME, \"a\").text)\n",
    "\n",
    "    locator = geopy.Nominatim(user_agent=\"myGeocoder\")\n",
    "\n",
    "    df = pd.DataFrame({\"address\": all_locations})\n",
    "    geocode = RateLimiter(locator.geocode, min_delay_seconds=0.01)\n",
    "    df['location'] = df['address'].apply(geocode)\n",
    "    df = df.dropna()\n",
    "    df['point'] = df['location'].apply(lambda cr: tuple(cr.point))\n",
    "    df[['latitude', 'longitude', 'altitude']] = pd.DataFrame(df['point'].tolist(), index=df.index)\n",
    "\n",
    "    coor = df.loc[:, [\"address\", \"latitude\", \"longitude\"]]\n",
    "    coor.loc[:, \"coordinates\"] = list(zip(coor[\"latitude\"], coor[\"longitude\"]))\n",
    "\n",
    "    return [list(coor[\"address\"]), list(coor[\"coordinates\"])]\n",
    "\n",
    "\n",
    "def draw_locations(coordinates, all_locations):\n",
    "\n",
    "    map = folium.Map(location=[40.76791227224293, -73.98658282967192], zoom_start=3)\n",
    "    marker_cluster = MarkerCluster().add_to(map)\n",
    "\n",
    "    pos = 0\n",
    "    for point in coordinates:\n",
    "        folium.Marker(point, popup=all_locations[pos], tooltip=all_locations[pos]).add_to(marker_cluster)\n",
    "        pos += 1\n",
    "\n",
    "    folium_static(map)"
   ]
  },
  {
   "cell_type": "code",
   "execution_count": null,
   "id": "717c8bb3",
   "metadata": {},
   "outputs": [],
   "source": [
    "title = \"The Dark Knight\"\n",
    "\n",
    "if(title):\n",
    "    res = get_film_data(title)\n",
    "    actors_names = res[0]\n",
    "    film_url = res[1]\n",
    "    loc_info = get_locations(film_url)\n",
    "    all_locations = loc_info[0]\n",
    "    coordinates = loc_info[1]\n",
    "\n",
    "with open('TheDarkKnightLoc.txt', 'w') as f:\n",
    "    f.write('\\n'.join(all_locations))\n",
    "\n",
    "with open('TheDarkKnightCoor.txt', 'w') as f:\n",
    "    f.write('\\n'.join(str(x) for x in coordinates))\n",
    "\n",
    "with open('TheDarkKnightActors.txt', 'w') as f:\n",
    "    f.write('\\n'.join(actors_names))"
   ]
  },
  {
   "cell_type": "code",
   "execution_count": 34,
   "id": "6fce4af4",
   "metadata": {},
   "outputs": [
    {
     "data": {
      "application/vnd.plotly.v1+json": {
       "config": {
        "plotlyServerURL": "https://plot.ly"
       },
       "data": [
        {
         "alignmentgroup": "True",
         "bingroup": "x",
         "histfunc": "sum",
         "hovertemplate": "genre=%{x}<br>sum of num=%{y}<extra></extra>",
         "legendgroup": "",
         "marker": {
          "color": "#636efa",
          "pattern": {
           "shape": ""
          }
         },
         "name": "",
         "offsetgroup": "",
         "orientation": "v",
         "showlegend": false,
         "type": "histogram",
         "x": [
          "Action",
          "Drama",
          "Comedy",
          "Sport",
          "Adventure",
          "Sci-Fi",
          "Fantasy",
          "Horror",
          "History",
          "Mystery",
          "Thriller",
          "Crime",
          "Animation",
          "Short",
          "Documentary",
          "Biography"
         ],
         "xaxis": "x",
         "y": [
          19,
          17,
          5,
          1,
          11,
          3,
          5,
          1,
          1,
          3,
          3,
          9,
          2,
          1,
          1,
          1
         ],
         "yaxis": "y"
        }
       ],
       "layout": {
        "barmode": "relative",
        "legend": {
         "tracegroupgap": 0
        },
        "margin": {
         "t": 60
        },
        "template": {
         "data": {
          "bar": [
           {
            "error_x": {
             "color": "#2a3f5f"
            },
            "error_y": {
             "color": "#2a3f5f"
            },
            "marker": {
             "line": {
              "color": "#E5ECF6",
              "width": 0.5
             },
             "pattern": {
              "fillmode": "overlay",
              "size": 10,
              "solidity": 0.2
             }
            },
            "type": "bar"
           }
          ],
          "barpolar": [
           {
            "marker": {
             "line": {
              "color": "#E5ECF6",
              "width": 0.5
             },
             "pattern": {
              "fillmode": "overlay",
              "size": 10,
              "solidity": 0.2
             }
            },
            "type": "barpolar"
           }
          ],
          "carpet": [
           {
            "aaxis": {
             "endlinecolor": "#2a3f5f",
             "gridcolor": "white",
             "linecolor": "white",
             "minorgridcolor": "white",
             "startlinecolor": "#2a3f5f"
            },
            "baxis": {
             "endlinecolor": "#2a3f5f",
             "gridcolor": "white",
             "linecolor": "white",
             "minorgridcolor": "white",
             "startlinecolor": "#2a3f5f"
            },
            "type": "carpet"
           }
          ],
          "choropleth": [
           {
            "colorbar": {
             "outlinewidth": 0,
             "ticks": ""
            },
            "type": "choropleth"
           }
          ],
          "contour": [
           {
            "colorbar": {
             "outlinewidth": 0,
             "ticks": ""
            },
            "colorscale": [
             [
              0,
              "#0d0887"
             ],
             [
              0.1111111111111111,
              "#46039f"
             ],
             [
              0.2222222222222222,
              "#7201a8"
             ],
             [
              0.3333333333333333,
              "#9c179e"
             ],
             [
              0.4444444444444444,
              "#bd3786"
             ],
             [
              0.5555555555555556,
              "#d8576b"
             ],
             [
              0.6666666666666666,
              "#ed7953"
             ],
             [
              0.7777777777777778,
              "#fb9f3a"
             ],
             [
              0.8888888888888888,
              "#fdca26"
             ],
             [
              1,
              "#f0f921"
             ]
            ],
            "type": "contour"
           }
          ],
          "contourcarpet": [
           {
            "colorbar": {
             "outlinewidth": 0,
             "ticks": ""
            },
            "type": "contourcarpet"
           }
          ],
          "heatmap": [
           {
            "colorbar": {
             "outlinewidth": 0,
             "ticks": ""
            },
            "colorscale": [
             [
              0,
              "#0d0887"
             ],
             [
              0.1111111111111111,
              "#46039f"
             ],
             [
              0.2222222222222222,
              "#7201a8"
             ],
             [
              0.3333333333333333,
              "#9c179e"
             ],
             [
              0.4444444444444444,
              "#bd3786"
             ],
             [
              0.5555555555555556,
              "#d8576b"
             ],
             [
              0.6666666666666666,
              "#ed7953"
             ],
             [
              0.7777777777777778,
              "#fb9f3a"
             ],
             [
              0.8888888888888888,
              "#fdca26"
             ],
             [
              1,
              "#f0f921"
             ]
            ],
            "type": "heatmap"
           }
          ],
          "heatmapgl": [
           {
            "colorbar": {
             "outlinewidth": 0,
             "ticks": ""
            },
            "colorscale": [
             [
              0,
              "#0d0887"
             ],
             [
              0.1111111111111111,
              "#46039f"
             ],
             [
              0.2222222222222222,
              "#7201a8"
             ],
             [
              0.3333333333333333,
              "#9c179e"
             ],
             [
              0.4444444444444444,
              "#bd3786"
             ],
             [
              0.5555555555555556,
              "#d8576b"
             ],
             [
              0.6666666666666666,
              "#ed7953"
             ],
             [
              0.7777777777777778,
              "#fb9f3a"
             ],
             [
              0.8888888888888888,
              "#fdca26"
             ],
             [
              1,
              "#f0f921"
             ]
            ],
            "type": "heatmapgl"
           }
          ],
          "histogram": [
           {
            "marker": {
             "pattern": {
              "fillmode": "overlay",
              "size": 10,
              "solidity": 0.2
             }
            },
            "type": "histogram"
           }
          ],
          "histogram2d": [
           {
            "colorbar": {
             "outlinewidth": 0,
             "ticks": ""
            },
            "colorscale": [
             [
              0,
              "#0d0887"
             ],
             [
              0.1111111111111111,
              "#46039f"
             ],
             [
              0.2222222222222222,
              "#7201a8"
             ],
             [
              0.3333333333333333,
              "#9c179e"
             ],
             [
              0.4444444444444444,
              "#bd3786"
             ],
             [
              0.5555555555555556,
              "#d8576b"
             ],
             [
              0.6666666666666666,
              "#ed7953"
             ],
             [
              0.7777777777777778,
              "#fb9f3a"
             ],
             [
              0.8888888888888888,
              "#fdca26"
             ],
             [
              1,
              "#f0f921"
             ]
            ],
            "type": "histogram2d"
           }
          ],
          "histogram2dcontour": [
           {
            "colorbar": {
             "outlinewidth": 0,
             "ticks": ""
            },
            "colorscale": [
             [
              0,
              "#0d0887"
             ],
             [
              0.1111111111111111,
              "#46039f"
             ],
             [
              0.2222222222222222,
              "#7201a8"
             ],
             [
              0.3333333333333333,
              "#9c179e"
             ],
             [
              0.4444444444444444,
              "#bd3786"
             ],
             [
              0.5555555555555556,
              "#d8576b"
             ],
             [
              0.6666666666666666,
              "#ed7953"
             ],
             [
              0.7777777777777778,
              "#fb9f3a"
             ],
             [
              0.8888888888888888,
              "#fdca26"
             ],
             [
              1,
              "#f0f921"
             ]
            ],
            "type": "histogram2dcontour"
           }
          ],
          "mesh3d": [
           {
            "colorbar": {
             "outlinewidth": 0,
             "ticks": ""
            },
            "type": "mesh3d"
           }
          ],
          "parcoords": [
           {
            "line": {
             "colorbar": {
              "outlinewidth": 0,
              "ticks": ""
             }
            },
            "type": "parcoords"
           }
          ],
          "pie": [
           {
            "automargin": true,
            "type": "pie"
           }
          ],
          "scatter": [
           {
            "fillpattern": {
             "fillmode": "overlay",
             "size": 10,
             "solidity": 0.2
            },
            "type": "scatter"
           }
          ],
          "scatter3d": [
           {
            "line": {
             "colorbar": {
              "outlinewidth": 0,
              "ticks": ""
             }
            },
            "marker": {
             "colorbar": {
              "outlinewidth": 0,
              "ticks": ""
             }
            },
            "type": "scatter3d"
           }
          ],
          "scattercarpet": [
           {
            "marker": {
             "colorbar": {
              "outlinewidth": 0,
              "ticks": ""
             }
            },
            "type": "scattercarpet"
           }
          ],
          "scattergeo": [
           {
            "marker": {
             "colorbar": {
              "outlinewidth": 0,
              "ticks": ""
             }
            },
            "type": "scattergeo"
           }
          ],
          "scattergl": [
           {
            "marker": {
             "colorbar": {
              "outlinewidth": 0,
              "ticks": ""
             }
            },
            "type": "scattergl"
           }
          ],
          "scattermapbox": [
           {
            "marker": {
             "colorbar": {
              "outlinewidth": 0,
              "ticks": ""
             }
            },
            "type": "scattermapbox"
           }
          ],
          "scatterpolar": [
           {
            "marker": {
             "colorbar": {
              "outlinewidth": 0,
              "ticks": ""
             }
            },
            "type": "scatterpolar"
           }
          ],
          "scatterpolargl": [
           {
            "marker": {
             "colorbar": {
              "outlinewidth": 0,
              "ticks": ""
             }
            },
            "type": "scatterpolargl"
           }
          ],
          "scatterternary": [
           {
            "marker": {
             "colorbar": {
              "outlinewidth": 0,
              "ticks": ""
             }
            },
            "type": "scatterternary"
           }
          ],
          "surface": [
           {
            "colorbar": {
             "outlinewidth": 0,
             "ticks": ""
            },
            "colorscale": [
             [
              0,
              "#0d0887"
             ],
             [
              0.1111111111111111,
              "#46039f"
             ],
             [
              0.2222222222222222,
              "#7201a8"
             ],
             [
              0.3333333333333333,
              "#9c179e"
             ],
             [
              0.4444444444444444,
              "#bd3786"
             ],
             [
              0.5555555555555556,
              "#d8576b"
             ],
             [
              0.6666666666666666,
              "#ed7953"
             ],
             [
              0.7777777777777778,
              "#fb9f3a"
             ],
             [
              0.8888888888888888,
              "#fdca26"
             ],
             [
              1,
              "#f0f921"
             ]
            ],
            "type": "surface"
           }
          ],
          "table": [
           {
            "cells": {
             "fill": {
              "color": "#EBF0F8"
             },
             "line": {
              "color": "white"
             }
            },
            "header": {
             "fill": {
              "color": "#C8D4E3"
             },
             "line": {
              "color": "white"
             }
            },
            "type": "table"
           }
          ]
         },
         "layout": {
          "annotationdefaults": {
           "arrowcolor": "#2a3f5f",
           "arrowhead": 0,
           "arrowwidth": 1
          },
          "autotypenumbers": "strict",
          "coloraxis": {
           "colorbar": {
            "outlinewidth": 0,
            "ticks": ""
           }
          },
          "colorscale": {
           "diverging": [
            [
             0,
             "#8e0152"
            ],
            [
             0.1,
             "#c51b7d"
            ],
            [
             0.2,
             "#de77ae"
            ],
            [
             0.3,
             "#f1b6da"
            ],
            [
             0.4,
             "#fde0ef"
            ],
            [
             0.5,
             "#f7f7f7"
            ],
            [
             0.6,
             "#e6f5d0"
            ],
            [
             0.7,
             "#b8e186"
            ],
            [
             0.8,
             "#7fbc41"
            ],
            [
             0.9,
             "#4d9221"
            ],
            [
             1,
             "#276419"
            ]
           ],
           "sequential": [
            [
             0,
             "#0d0887"
            ],
            [
             0.1111111111111111,
             "#46039f"
            ],
            [
             0.2222222222222222,
             "#7201a8"
            ],
            [
             0.3333333333333333,
             "#9c179e"
            ],
            [
             0.4444444444444444,
             "#bd3786"
            ],
            [
             0.5555555555555556,
             "#d8576b"
            ],
            [
             0.6666666666666666,
             "#ed7953"
            ],
            [
             0.7777777777777778,
             "#fb9f3a"
            ],
            [
             0.8888888888888888,
             "#fdca26"
            ],
            [
             1,
             "#f0f921"
            ]
           ],
           "sequentialminus": [
            [
             0,
             "#0d0887"
            ],
            [
             0.1111111111111111,
             "#46039f"
            ],
            [
             0.2222222222222222,
             "#7201a8"
            ],
            [
             0.3333333333333333,
             "#9c179e"
            ],
            [
             0.4444444444444444,
             "#bd3786"
            ],
            [
             0.5555555555555556,
             "#d8576b"
            ],
            [
             0.6666666666666666,
             "#ed7953"
            ],
            [
             0.7777777777777778,
             "#fb9f3a"
            ],
            [
             0.8888888888888888,
             "#fdca26"
            ],
            [
             1,
             "#f0f921"
            ]
           ]
          },
          "colorway": [
           "#636efa",
           "#EF553B",
           "#00cc96",
           "#ab63fa",
           "#FFA15A",
           "#19d3f3",
           "#FF6692",
           "#B6E880",
           "#FF97FF",
           "#FECB52"
          ],
          "font": {
           "color": "#2a3f5f"
          },
          "geo": {
           "bgcolor": "white",
           "lakecolor": "white",
           "landcolor": "#E5ECF6",
           "showlakes": true,
           "showland": true,
           "subunitcolor": "white"
          },
          "hoverlabel": {
           "align": "left"
          },
          "hovermode": "closest",
          "mapbox": {
           "style": "light"
          },
          "paper_bgcolor": "white",
          "plot_bgcolor": "#E5ECF6",
          "polar": {
           "angularaxis": {
            "gridcolor": "white",
            "linecolor": "white",
            "ticks": ""
           },
           "bgcolor": "#E5ECF6",
           "radialaxis": {
            "gridcolor": "white",
            "linecolor": "white",
            "ticks": ""
           }
          },
          "scene": {
           "xaxis": {
            "backgroundcolor": "#E5ECF6",
            "gridcolor": "white",
            "gridwidth": 2,
            "linecolor": "white",
            "showbackground": true,
            "ticks": "",
            "zerolinecolor": "white"
           },
           "yaxis": {
            "backgroundcolor": "#E5ECF6",
            "gridcolor": "white",
            "gridwidth": 2,
            "linecolor": "white",
            "showbackground": true,
            "ticks": "",
            "zerolinecolor": "white"
           },
           "zaxis": {
            "backgroundcolor": "#E5ECF6",
            "gridcolor": "white",
            "gridwidth": 2,
            "linecolor": "white",
            "showbackground": true,
            "ticks": "",
            "zerolinecolor": "white"
           }
          },
          "shapedefaults": {
           "line": {
            "color": "#2a3f5f"
           }
          },
          "ternary": {
           "aaxis": {
            "gridcolor": "white",
            "linecolor": "white",
            "ticks": ""
           },
           "baxis": {
            "gridcolor": "white",
            "linecolor": "white",
            "ticks": ""
           },
           "bgcolor": "#E5ECF6",
           "caxis": {
            "gridcolor": "white",
            "linecolor": "white",
            "ticks": ""
           }
          },
          "title": {
           "x": 0.05
          },
          "xaxis": {
           "automargin": true,
           "gridcolor": "white",
           "linecolor": "white",
           "ticks": "",
           "title": {
            "standoff": 15
           },
           "zerolinecolor": "white",
           "zerolinewidth": 2
          },
          "yaxis": {
           "automargin": true,
           "gridcolor": "white",
           "linecolor": "white",
           "ticks": "",
           "title": {
            "standoff": 15
           },
           "zerolinecolor": "white",
           "zerolinewidth": 2
          }
         }
        },
        "xaxis": {
         "anchor": "y",
         "domain": [
          0,
          1
         ],
         "title": {
          "text": "genre"
         }
        },
        "yaxis": {
         "anchor": "x",
         "domain": [
          0,
          1
         ],
         "title": {
          "text": "sum of num"
         }
        }
       }
      },
      "text/html": [
       "<div>                            <div id=\"e2e8b8c9-e158-4b2e-9375-c017d7dafe6b\" class=\"plotly-graph-div\" style=\"height:525px; width:100%;\"></div>            <script type=\"text/javascript\">                require([\"plotly\"], function(Plotly) {                    window.PLOTLYENV=window.PLOTLYENV || {};                                    if (document.getElementById(\"e2e8b8c9-e158-4b2e-9375-c017d7dafe6b\")) {                    Plotly.newPlot(                        \"e2e8b8c9-e158-4b2e-9375-c017d7dafe6b\",                        [{\"alignmentgroup\":\"True\",\"bingroup\":\"x\",\"histfunc\":\"sum\",\"hovertemplate\":\"genre=%{x}<br>sum of num=%{y}<extra></extra>\",\"legendgroup\":\"\",\"marker\":{\"color\":\"#636efa\",\"pattern\":{\"shape\":\"\"}},\"name\":\"\",\"offsetgroup\":\"\",\"orientation\":\"v\",\"showlegend\":false,\"x\":[\"Action\",\"Drama\",\"Comedy\",\"Sport\",\"Adventure\",\"Sci-Fi\",\"Fantasy\",\"Horror\",\"History\",\"Mystery\",\"Thriller\",\"Crime\",\"Animation\",\"Short\",\"Documentary\",\"Biography\"],\"xaxis\":\"x\",\"y\":[19,17,5,1,11,3,5,1,1,3,3,9,2,1,1,1],\"yaxis\":\"y\",\"type\":\"histogram\"}],                        {\"template\":{\"data\":{\"histogram2dcontour\":[{\"type\":\"histogram2dcontour\",\"colorbar\":{\"outlinewidth\":0,\"ticks\":\"\"},\"colorscale\":[[0.0,\"#0d0887\"],[0.1111111111111111,\"#46039f\"],[0.2222222222222222,\"#7201a8\"],[0.3333333333333333,\"#9c179e\"],[0.4444444444444444,\"#bd3786\"],[0.5555555555555556,\"#d8576b\"],[0.6666666666666666,\"#ed7953\"],[0.7777777777777778,\"#fb9f3a\"],[0.8888888888888888,\"#fdca26\"],[1.0,\"#f0f921\"]]}],\"choropleth\":[{\"type\":\"choropleth\",\"colorbar\":{\"outlinewidth\":0,\"ticks\":\"\"}}],\"histogram2d\":[{\"type\":\"histogram2d\",\"colorbar\":{\"outlinewidth\":0,\"ticks\":\"\"},\"colorscale\":[[0.0,\"#0d0887\"],[0.1111111111111111,\"#46039f\"],[0.2222222222222222,\"#7201a8\"],[0.3333333333333333,\"#9c179e\"],[0.4444444444444444,\"#bd3786\"],[0.5555555555555556,\"#d8576b\"],[0.6666666666666666,\"#ed7953\"],[0.7777777777777778,\"#fb9f3a\"],[0.8888888888888888,\"#fdca26\"],[1.0,\"#f0f921\"]]}],\"heatmap\":[{\"type\":\"heatmap\",\"colorbar\":{\"outlinewidth\":0,\"ticks\":\"\"},\"colorscale\":[[0.0,\"#0d0887\"],[0.1111111111111111,\"#46039f\"],[0.2222222222222222,\"#7201a8\"],[0.3333333333333333,\"#9c179e\"],[0.4444444444444444,\"#bd3786\"],[0.5555555555555556,\"#d8576b\"],[0.6666666666666666,\"#ed7953\"],[0.7777777777777778,\"#fb9f3a\"],[0.8888888888888888,\"#fdca26\"],[1.0,\"#f0f921\"]]}],\"heatmapgl\":[{\"type\":\"heatmapgl\",\"colorbar\":{\"outlinewidth\":0,\"ticks\":\"\"},\"colorscale\":[[0.0,\"#0d0887\"],[0.1111111111111111,\"#46039f\"],[0.2222222222222222,\"#7201a8\"],[0.3333333333333333,\"#9c179e\"],[0.4444444444444444,\"#bd3786\"],[0.5555555555555556,\"#d8576b\"],[0.6666666666666666,\"#ed7953\"],[0.7777777777777778,\"#fb9f3a\"],[0.8888888888888888,\"#fdca26\"],[1.0,\"#f0f921\"]]}],\"contourcarpet\":[{\"type\":\"contourcarpet\",\"colorbar\":{\"outlinewidth\":0,\"ticks\":\"\"}}],\"contour\":[{\"type\":\"contour\",\"colorbar\":{\"outlinewidth\":0,\"ticks\":\"\"},\"colorscale\":[[0.0,\"#0d0887\"],[0.1111111111111111,\"#46039f\"],[0.2222222222222222,\"#7201a8\"],[0.3333333333333333,\"#9c179e\"],[0.4444444444444444,\"#bd3786\"],[0.5555555555555556,\"#d8576b\"],[0.6666666666666666,\"#ed7953\"],[0.7777777777777778,\"#fb9f3a\"],[0.8888888888888888,\"#fdca26\"],[1.0,\"#f0f921\"]]}],\"surface\":[{\"type\":\"surface\",\"colorbar\":{\"outlinewidth\":0,\"ticks\":\"\"},\"colorscale\":[[0.0,\"#0d0887\"],[0.1111111111111111,\"#46039f\"],[0.2222222222222222,\"#7201a8\"],[0.3333333333333333,\"#9c179e\"],[0.4444444444444444,\"#bd3786\"],[0.5555555555555556,\"#d8576b\"],[0.6666666666666666,\"#ed7953\"],[0.7777777777777778,\"#fb9f3a\"],[0.8888888888888888,\"#fdca26\"],[1.0,\"#f0f921\"]]}],\"mesh3d\":[{\"type\":\"mesh3d\",\"colorbar\":{\"outlinewidth\":0,\"ticks\":\"\"}}],\"scatter\":[{\"fillpattern\":{\"fillmode\":\"overlay\",\"size\":10,\"solidity\":0.2},\"type\":\"scatter\"}],\"parcoords\":[{\"type\":\"parcoords\",\"line\":{\"colorbar\":{\"outlinewidth\":0,\"ticks\":\"\"}}}],\"scatterpolargl\":[{\"type\":\"scatterpolargl\",\"marker\":{\"colorbar\":{\"outlinewidth\":0,\"ticks\":\"\"}}}],\"bar\":[{\"error_x\":{\"color\":\"#2a3f5f\"},\"error_y\":{\"color\":\"#2a3f5f\"},\"marker\":{\"line\":{\"color\":\"#E5ECF6\",\"width\":0.5},\"pattern\":{\"fillmode\":\"overlay\",\"size\":10,\"solidity\":0.2}},\"type\":\"bar\"}],\"scattergeo\":[{\"type\":\"scattergeo\",\"marker\":{\"colorbar\":{\"outlinewidth\":0,\"ticks\":\"\"}}}],\"scatterpolar\":[{\"type\":\"scatterpolar\",\"marker\":{\"colorbar\":{\"outlinewidth\":0,\"ticks\":\"\"}}}],\"histogram\":[{\"marker\":{\"pattern\":{\"fillmode\":\"overlay\",\"size\":10,\"solidity\":0.2}},\"type\":\"histogram\"}],\"scattergl\":[{\"type\":\"scattergl\",\"marker\":{\"colorbar\":{\"outlinewidth\":0,\"ticks\":\"\"}}}],\"scatter3d\":[{\"type\":\"scatter3d\",\"line\":{\"colorbar\":{\"outlinewidth\":0,\"ticks\":\"\"}},\"marker\":{\"colorbar\":{\"outlinewidth\":0,\"ticks\":\"\"}}}],\"scattermapbox\":[{\"type\":\"scattermapbox\",\"marker\":{\"colorbar\":{\"outlinewidth\":0,\"ticks\":\"\"}}}],\"scatterternary\":[{\"type\":\"scatterternary\",\"marker\":{\"colorbar\":{\"outlinewidth\":0,\"ticks\":\"\"}}}],\"scattercarpet\":[{\"type\":\"scattercarpet\",\"marker\":{\"colorbar\":{\"outlinewidth\":0,\"ticks\":\"\"}}}],\"carpet\":[{\"aaxis\":{\"endlinecolor\":\"#2a3f5f\",\"gridcolor\":\"white\",\"linecolor\":\"white\",\"minorgridcolor\":\"white\",\"startlinecolor\":\"#2a3f5f\"},\"baxis\":{\"endlinecolor\":\"#2a3f5f\",\"gridcolor\":\"white\",\"linecolor\":\"white\",\"minorgridcolor\":\"white\",\"startlinecolor\":\"#2a3f5f\"},\"type\":\"carpet\"}],\"table\":[{\"cells\":{\"fill\":{\"color\":\"#EBF0F8\"},\"line\":{\"color\":\"white\"}},\"header\":{\"fill\":{\"color\":\"#C8D4E3\"},\"line\":{\"color\":\"white\"}},\"type\":\"table\"}],\"barpolar\":[{\"marker\":{\"line\":{\"color\":\"#E5ECF6\",\"width\":0.5},\"pattern\":{\"fillmode\":\"overlay\",\"size\":10,\"solidity\":0.2}},\"type\":\"barpolar\"}],\"pie\":[{\"automargin\":true,\"type\":\"pie\"}]},\"layout\":{\"autotypenumbers\":\"strict\",\"colorway\":[\"#636efa\",\"#EF553B\",\"#00cc96\",\"#ab63fa\",\"#FFA15A\",\"#19d3f3\",\"#FF6692\",\"#B6E880\",\"#FF97FF\",\"#FECB52\"],\"font\":{\"color\":\"#2a3f5f\"},\"hovermode\":\"closest\",\"hoverlabel\":{\"align\":\"left\"},\"paper_bgcolor\":\"white\",\"plot_bgcolor\":\"#E5ECF6\",\"polar\":{\"bgcolor\":\"#E5ECF6\",\"angularaxis\":{\"gridcolor\":\"white\",\"linecolor\":\"white\",\"ticks\":\"\"},\"radialaxis\":{\"gridcolor\":\"white\",\"linecolor\":\"white\",\"ticks\":\"\"}},\"ternary\":{\"bgcolor\":\"#E5ECF6\",\"aaxis\":{\"gridcolor\":\"white\",\"linecolor\":\"white\",\"ticks\":\"\"},\"baxis\":{\"gridcolor\":\"white\",\"linecolor\":\"white\",\"ticks\":\"\"},\"caxis\":{\"gridcolor\":\"white\",\"linecolor\":\"white\",\"ticks\":\"\"}},\"coloraxis\":{\"colorbar\":{\"outlinewidth\":0,\"ticks\":\"\"}},\"colorscale\":{\"sequential\":[[0.0,\"#0d0887\"],[0.1111111111111111,\"#46039f\"],[0.2222222222222222,\"#7201a8\"],[0.3333333333333333,\"#9c179e\"],[0.4444444444444444,\"#bd3786\"],[0.5555555555555556,\"#d8576b\"],[0.6666666666666666,\"#ed7953\"],[0.7777777777777778,\"#fb9f3a\"],[0.8888888888888888,\"#fdca26\"],[1.0,\"#f0f921\"]],\"sequentialminus\":[[0.0,\"#0d0887\"],[0.1111111111111111,\"#46039f\"],[0.2222222222222222,\"#7201a8\"],[0.3333333333333333,\"#9c179e\"],[0.4444444444444444,\"#bd3786\"],[0.5555555555555556,\"#d8576b\"],[0.6666666666666666,\"#ed7953\"],[0.7777777777777778,\"#fb9f3a\"],[0.8888888888888888,\"#fdca26\"],[1.0,\"#f0f921\"]],\"diverging\":[[0,\"#8e0152\"],[0.1,\"#c51b7d\"],[0.2,\"#de77ae\"],[0.3,\"#f1b6da\"],[0.4,\"#fde0ef\"],[0.5,\"#f7f7f7\"],[0.6,\"#e6f5d0\"],[0.7,\"#b8e186\"],[0.8,\"#7fbc41\"],[0.9,\"#4d9221\"],[1,\"#276419\"]]},\"xaxis\":{\"gridcolor\":\"white\",\"linecolor\":\"white\",\"ticks\":\"\",\"title\":{\"standoff\":15},\"zerolinecolor\":\"white\",\"automargin\":true,\"zerolinewidth\":2},\"yaxis\":{\"gridcolor\":\"white\",\"linecolor\":\"white\",\"ticks\":\"\",\"title\":{\"standoff\":15},\"zerolinecolor\":\"white\",\"automargin\":true,\"zerolinewidth\":2},\"scene\":{\"xaxis\":{\"backgroundcolor\":\"#E5ECF6\",\"gridcolor\":\"white\",\"linecolor\":\"white\",\"showbackground\":true,\"ticks\":\"\",\"zerolinecolor\":\"white\",\"gridwidth\":2},\"yaxis\":{\"backgroundcolor\":\"#E5ECF6\",\"gridcolor\":\"white\",\"linecolor\":\"white\",\"showbackground\":true,\"ticks\":\"\",\"zerolinecolor\":\"white\",\"gridwidth\":2},\"zaxis\":{\"backgroundcolor\":\"#E5ECF6\",\"gridcolor\":\"white\",\"linecolor\":\"white\",\"showbackground\":true,\"ticks\":\"\",\"zerolinecolor\":\"white\",\"gridwidth\":2}},\"shapedefaults\":{\"line\":{\"color\":\"#2a3f5f\"}},\"annotationdefaults\":{\"arrowcolor\":\"#2a3f5f\",\"arrowhead\":0,\"arrowwidth\":1},\"geo\":{\"bgcolor\":\"white\",\"landcolor\":\"#E5ECF6\",\"subunitcolor\":\"white\",\"showland\":true,\"showlakes\":true,\"lakecolor\":\"white\"},\"title\":{\"x\":0.05},\"mapbox\":{\"style\":\"light\"}}},\"xaxis\":{\"anchor\":\"y\",\"domain\":[0.0,1.0],\"title\":{\"text\":\"genre\"}},\"yaxis\":{\"anchor\":\"x\",\"domain\":[0.0,1.0],\"title\":{\"text\":\"sum of num\"}},\"legend\":{\"tracegroupgap\":0},\"margin\":{\"t\":60},\"barmode\":\"relative\"},                        {\"responsive\": true}                    ).then(function(){\n",
       "                            \n",
       "var gd = document.getElementById('e2e8b8c9-e158-4b2e-9375-c017d7dafe6b');\n",
       "var x = new MutationObserver(function (mutations, observer) {{\n",
       "        var display = window.getComputedStyle(gd).display;\n",
       "        if (!display || display === 'none') {{\n",
       "            console.log([gd, 'removed!']);\n",
       "            Plotly.purge(gd);\n",
       "            observer.disconnect();\n",
       "        }}\n",
       "}});\n",
       "\n",
       "// Listen for the removal of the full notebook cells\n",
       "var notebookContainer = gd.closest('#notebook-container');\n",
       "if (notebookContainer) {{\n",
       "    x.observe(notebookContainer, {childList: true});\n",
       "}}\n",
       "\n",
       "// Listen for the clearing of the current output cell\n",
       "var outputEl = gd.closest('.output');\n",
       "if (outputEl) {{\n",
       "    x.observe(outputEl, {childList: true});\n",
       "}}\n",
       "\n",
       "                        })                };                });            </script>        </div>"
      ]
     },
     "metadata": {},
     "output_type": "display_data"
    }
   ],
   "source": [
    "import requests\n",
    "import pandas as pd\n",
    "import seaborn as sns\n",
    "import plotly_express as px\n",
    "\n",
    "cookies = {\n",
    "        'uu': 'eyJpZCI6InV1MTQ0OWM1ZDI1ZWE3NGMwMzg2OWQiLCJwcmVmZXJlbmNlcyI6eyJmaW5kX2luY2x1ZGVfYWR1bHQiOmZhbHNlfX0=',\n",
    "        'ubid-main': '132-0172990-2453204',\n",
    "        'session-id': '140-0676346-1587024',\n",
    "        'adblk': 'adblk_no',\n",
    "        'session-id-time': '2082787201l',\n",
    "        'session-token': 'm5QQdqTyS46QzwOvxBabaVn1WH4nXGECR+DWAMfcxq4nX+3Q+EaixprdyKv79hoBsskn6iZB8f/Cmxwfnpz/qGAEJLG/9KC7yShPAQc/U5wu5hnPfgEHb+ZmKUD72FaWUJbtXnyZjipSgnzYzZJt1c5h9f3U5CrhDtGDA04HFDFBqvXyrJiy+qM0If/B5iGEHPglVTlwf2ZD8YdJ/W4SDg',\n",
    "    }\n",
    "\n",
    "headers = {\n",
    "    'authority': 'api.graphql.imdb.com',\n",
    "    'accept': '*/*',\n",
    "    'accept-language': 'ru-RU,ru;q=0.9,en-US;q=0.8,en;q=0.7',\n",
    "    'content-type': 'application/json',\n",
    "    # Requests sorts cookies= alphabetically\n",
    "    # 'cookie': 'uu=eyJpZCI6InV1MTQ0OWM1ZDI1ZWE3NGMwMzg2OWQiLCJwcmVmZXJlbmNlcyI6eyJmaW5kX2luY2x1ZGVfYWR1bHQiOmZhbHNlfX0=; ubid-main=132-0172990-2453204; session-id=140-0676346-1587024; adblk=adblk_no; session-id-time=2082787201l; session-token=m5QQdqTyS46QzwOvxBabaVn1WH4nXGECR+DWAMfcxq4nX+3Q+EaixprdyKv79hoBsskn6iZB8f/Cmxwfnpz/qGAEJLG/9KC7yShPAQc/U5wu5hnPfgEHb+ZmKUD72FaWUJbtXnyZjipSgnzYzZJt1c5h9f3U5CrhDtGDA04HFDFBqvXyrJiy+qM0If/B5iGEHPglVTlwf2ZD8YdJ/W4SDg',\n",
    "    'origin': 'https://www.imdb.com',\n",
    "    'referer': 'https://www.imdb.com/',\n",
    "    'sec-ch-ua': '\" Not A;Brand\";v=\"99\", \"Chromium\";v=\"102\", \"Google Chrome\";v=\"102\"',\n",
    "    'sec-ch-ua-mobile': '?0',\n",
    "    'sec-ch-ua-platform': '\"Windows\"',\n",
    "    'sec-fetch-dest': 'empty',\n",
    "    'sec-fetch-mode': 'cors',\n",
    "    'sec-fetch-site': 'same-site',\n",
    "    'user-agent': 'Mozilla/5.0 (Windows NT 10.0; Win64; x64) AppleWebKit/537.36 (KHTML, like Gecko) Chrome/102.0.0.0 Safari/537.36',\n",
    "    'x-amzn-sessionid': '140-0676346-1587024',\n",
    "    'x-imdb-client-name': 'imdb-web-next',\n",
    "    'x-imdb-user-country': 'RU',\n",
    "    'x-imdb-user-language': 'ru-RU',\n",
    "}\n",
    "\n",
    "params = {\n",
    "    'operationName': 'BatchPage_HomeMain',\n",
    "    'variables': '{\"fanPicksFirst\":30,\"topPicksFirst\":30}',\n",
    "    'extensions': '{\"persistedQuery\":{\"sha256Hash\":\"43d7cd8f063ac6cb0784c3accec54e7fdb2fb95fcd83f63fc7022cc39f6acf85\",\"version\":1}}',\n",
    "}\n",
    "\n",
    "response = requests.get('https://api.graphql.imdb.com/', params=params, cookies=cookies, headers=headers)\n",
    "#END FROM\n",
    "\n",
    "found = response.json()\n",
    "fan_list = found[\"data\"][\"fanPicksTitles\"][\"edges\"]\n",
    "movie_list = []\n",
    "for el in fan_list:\n",
    "    genres = []\n",
    "    for el1 in el[\"node\"][\"titleCardGenres\"][\"genres\"]:\n",
    "        genres.append(el1[\"text\"])\n",
    "    \n",
    "    movie_list.append([el[\"node\"][\"originalTitleText\"][\"text\"],genres])\n",
    "    \n",
    "fan_fav = pd.DataFrame(movie_list,columns = [\"movie\", \"genres\"])\n",
    "dct_count = {}\n",
    "for ind,row in fan_fav.iterrows():\n",
    "    for el in row[\"genres\"]:\n",
    "        if(el in dct_count):\n",
    "            dct_count[el] += 1\n",
    "        else:\n",
    "            dct_count[el] = 1\n",
    "    \n",
    "res = pd.DataFrame(list(dct_count.items()), columns = [\"genre\", \"num\"])\n",
    "px.histogram(res, x = \"genre\", y = \"num\")"
   ]
  },
  {
   "cell_type": "code",
   "execution_count": 36,
   "id": "e6529692",
   "metadata": {},
   "outputs": [
    {
     "data": {
      "text/html": [
       "<div>\n",
       "<style scoped>\n",
       "    .dataframe tbody tr th:only-of-type {\n",
       "        vertical-align: middle;\n",
       "    }\n",
       "\n",
       "    .dataframe tbody tr th {\n",
       "        vertical-align: top;\n",
       "    }\n",
       "\n",
       "    .dataframe thead th {\n",
       "        text-align: right;\n",
       "    }\n",
       "</style>\n",
       "<table border=\"1\" class=\"dataframe\">\n",
       "  <thead>\n",
       "    <tr style=\"text-align: right;\">\n",
       "      <th></th>\n",
       "      <th>total_bill</th>\n",
       "      <th>tip</th>\n",
       "      <th>sex</th>\n",
       "      <th>smoker</th>\n",
       "      <th>day</th>\n",
       "      <th>time</th>\n",
       "      <th>size</th>\n",
       "    </tr>\n",
       "  </thead>\n",
       "  <tbody>\n",
       "    <tr>\n",
       "      <th>0</th>\n",
       "      <td>16.99</td>\n",
       "      <td>1.01</td>\n",
       "      <td>Female</td>\n",
       "      <td>No</td>\n",
       "      <td>Sun</td>\n",
       "      <td>Dinner</td>\n",
       "      <td>2</td>\n",
       "    </tr>\n",
       "    <tr>\n",
       "      <th>1</th>\n",
       "      <td>10.34</td>\n",
       "      <td>1.66</td>\n",
       "      <td>Male</td>\n",
       "      <td>No</td>\n",
       "      <td>Sun</td>\n",
       "      <td>Dinner</td>\n",
       "      <td>3</td>\n",
       "    </tr>\n",
       "    <tr>\n",
       "      <th>2</th>\n",
       "      <td>21.01</td>\n",
       "      <td>3.50</td>\n",
       "      <td>Male</td>\n",
       "      <td>No</td>\n",
       "      <td>Sun</td>\n",
       "      <td>Dinner</td>\n",
       "      <td>3</td>\n",
       "    </tr>\n",
       "    <tr>\n",
       "      <th>3</th>\n",
       "      <td>23.68</td>\n",
       "      <td>3.31</td>\n",
       "      <td>Male</td>\n",
       "      <td>No</td>\n",
       "      <td>Sun</td>\n",
       "      <td>Dinner</td>\n",
       "      <td>2</td>\n",
       "    </tr>\n",
       "    <tr>\n",
       "      <th>4</th>\n",
       "      <td>24.59</td>\n",
       "      <td>3.61</td>\n",
       "      <td>Female</td>\n",
       "      <td>No</td>\n",
       "      <td>Sun</td>\n",
       "      <td>Dinner</td>\n",
       "      <td>4</td>\n",
       "    </tr>\n",
       "    <tr>\n",
       "      <th>...</th>\n",
       "      <td>...</td>\n",
       "      <td>...</td>\n",
       "      <td>...</td>\n",
       "      <td>...</td>\n",
       "      <td>...</td>\n",
       "      <td>...</td>\n",
       "      <td>...</td>\n",
       "    </tr>\n",
       "    <tr>\n",
       "      <th>239</th>\n",
       "      <td>29.03</td>\n",
       "      <td>5.92</td>\n",
       "      <td>Male</td>\n",
       "      <td>No</td>\n",
       "      <td>Sat</td>\n",
       "      <td>Dinner</td>\n",
       "      <td>3</td>\n",
       "    </tr>\n",
       "    <tr>\n",
       "      <th>240</th>\n",
       "      <td>27.18</td>\n",
       "      <td>2.00</td>\n",
       "      <td>Female</td>\n",
       "      <td>Yes</td>\n",
       "      <td>Sat</td>\n",
       "      <td>Dinner</td>\n",
       "      <td>2</td>\n",
       "    </tr>\n",
       "    <tr>\n",
       "      <th>241</th>\n",
       "      <td>22.67</td>\n",
       "      <td>2.00</td>\n",
       "      <td>Male</td>\n",
       "      <td>Yes</td>\n",
       "      <td>Sat</td>\n",
       "      <td>Dinner</td>\n",
       "      <td>2</td>\n",
       "    </tr>\n",
       "    <tr>\n",
       "      <th>242</th>\n",
       "      <td>17.82</td>\n",
       "      <td>1.75</td>\n",
       "      <td>Male</td>\n",
       "      <td>No</td>\n",
       "      <td>Sat</td>\n",
       "      <td>Dinner</td>\n",
       "      <td>2</td>\n",
       "    </tr>\n",
       "    <tr>\n",
       "      <th>243</th>\n",
       "      <td>18.78</td>\n",
       "      <td>3.00</td>\n",
       "      <td>Female</td>\n",
       "      <td>No</td>\n",
       "      <td>Thur</td>\n",
       "      <td>Dinner</td>\n",
       "      <td>2</td>\n",
       "    </tr>\n",
       "  </tbody>\n",
       "</table>\n",
       "<p>244 rows × 7 columns</p>\n",
       "</div>"
      ],
      "text/plain": [
       "     total_bill   tip     sex smoker   day    time  size\n",
       "0         16.99  1.01  Female     No   Sun  Dinner     2\n",
       "1         10.34  1.66    Male     No   Sun  Dinner     3\n",
       "2         21.01  3.50    Male     No   Sun  Dinner     3\n",
       "3         23.68  3.31    Male     No   Sun  Dinner     2\n",
       "4         24.59  3.61  Female     No   Sun  Dinner     4\n",
       "..          ...   ...     ...    ...   ...     ...   ...\n",
       "239       29.03  5.92    Male     No   Sat  Dinner     3\n",
       "240       27.18  2.00  Female    Yes   Sat  Dinner     2\n",
       "241       22.67  2.00    Male    Yes   Sat  Dinner     2\n",
       "242       17.82  1.75    Male     No   Sat  Dinner     2\n",
       "243       18.78  3.00  Female     No  Thur  Dinner     2\n",
       "\n",
       "[244 rows x 7 columns]"
      ]
     },
     "execution_count": 36,
     "metadata": {},
     "output_type": "execute_result"
    }
   ],
   "source": [
    "px.data.tips()"
   ]
  },
  {
   "cell_type": "code",
   "execution_count": 38,
   "id": "5a85cd2e",
   "metadata": {},
   "outputs": [
    {
     "data": {
      "text/plain": [
       "' (while driving) Three of a kind, let\\'s do this. That\\'s it? Three guys? Two guys on the roof. Every guy gets a share. Five shares is plenty. Six shares. Don\\'t forget the guy who planned the job. (scoffing) He thinks he can sit it out and still take a slice. I know why they call him the Joker. So, why do they call him the Joker? I heard he wears makeup. Makeup? Yeah, to scare people. Y\\'know, war paint. (taking the lead) All right, everybody, hands up, heads down! I said, hands up, heads down! (pulling one of the employees over the desk) Let\\'s go, pal, I\\'m making a withdrawal here. (running to another employee) I said, hands up! Here comes the silent alarm. And there it goes. Heads down! (dragging the other employee onto the floor) All right, tootsie, you\\'re taking a dive with me. Down! I said, stay down there! Funny, it didn\\'t dial 911. It was trying to reach a private number. Is it a problem? No, I\\'m done here. Sit down! Down! Down! I said, stay down there! Obviously, we don\\'t want you doing anything with your hands other than holding on for dear life. (thwacking a hostage with his gun, waving it) On the ground! Stay on the ground! Nobody make a move! Nobody! Stay down! He\\'s out, right? (frustrated) Where did you learn to count?! They wired this thing up with like five thousand volts. What kind of bank does that? A Mob bank. I guess the Joker\\'s as crazy as they say. Where\\'s the alarm guy? Boss told me when the guy was done, I should take him out. One less share, right? Funny. He told me something similar... He what? No! No! That\\'s a lot of money. If this Joker guy was so smart, he\\'d have had us bring a bigger car. I\\'m betting the Joker told you to kill me soon as we loaded the cash. (sighs, looks on his watch) No, no, no, no, I kill the bus driver. Bus driver? What bus driver?! School\\'s out. Time to go. (looking at Grumpy) That guy\\'s not getting up, is he? (grunting) That\\'s a lot of money. What happened to the rest of the guys? I believe... whatever doesn\\'t kill you simply makes you... ...stranger. I already have. (seeing the Bat Signal) No, man. I don\\'t like it tonight. That\\'s not true. Our men in the Major Crimes Unit are close to an arrest. Hey, Wuertz, mayor says you\\'re closing in on the Batman. The investigation is ongoing. The process of cleaning up the streets is a long one. I pledged in my campaign, uh, to have... Ever intending to see your wife again, lieutenant? I thought you had to go look after your mother, detective. Checked her back into the hospital. I\\'m sorry. (looking up) So he hasn\\'t shown up? He often doesn\\'t. I like reminding everybody he\\'s out there. Why wouldn\\'t he come? Hopefully... because he\\'s busy. That\\'s why we bring dogs. (petting one of them) My little princes. Please! Please, they\\'re crawling in my mouth! Please, I beg you, get them off! Look what your drugs do to my customers. Buyer beware. (climbing out of his truck) I told you my compound would take you places. I never said they\\'d be places you wanted to go. My business, repeat customers. You don\\'t like what I have to offer, you can buy from someone else. Assuming Batman left anyone to buy from. My dogs are hungry! Pity there\\'s only one of you! What?! That\\'s not him... Loose the dogs! That\\'s more like it. Don\\'t let me find you out here again. I don\\'t need help! Not my diagnosis. (lowered down into his car, hood sliding down) I\\'m not wearing hockey pads! Everybody back now! He can\\'t resist showing us his face. What\\'s he hiding under that makeup? Uh, can we get a minute, people, please? Him again. Who are the others? Another bunch of small timers. Some of the marked bills I gave you. My detectives have been making drug buys with them for weeks. This bank was another drop for the Mob. That makes five. We found the bulk of their dirty cash. Time to move in. We\\'d have to hit all banks simultaneously. SWAT teams, backup. What about this Joker guy? One man or the entire Mob? He can wait. When the new DA hears about this, he\\'ll want in. Do you trust him? (looking down) Be hard to keep him out. I hear he\\'s as stubborn as you are. (walking to his master) Be nice when Wayne Manor\\'s rebuilt. You can swap not sleeping in a penthouse for not sleeping in a mansion. Whenever you stitch yourself up, you do make a bloody mess. You ought to be pretty knowledgeable by now, then. I\\'m sure Mr. Fox can oblige. (looking at the marks) Did you get mauled by a tiger? Why not hire them, take the weekend off? I know. But things have improved. Look at the new district attorney. Are you interested in his character or his social circle? I trust you don\\'t have me followed on my day off. Know your limits, Master Wayne. Well, you do, sir. And what\\'s gonna happen on the day that you find out? On that day, Master Wayne, even I won\\'t want to. Probably. All rise. The Honorable Judge Freel presiding. I thought the DA just played golf with the mayor. You win, counselor. It was me. Maroni? He\\'s a fall guy! I\\'m the brains of the organization! Order! Granted. (standing up) Hostile? (pulls out a gun) I\\'ll show you hostile! Get him out of here. I hear you got a hell of a right cross. It\\'s a shame Sal\\'s going to walk. We liaise with various agencies... Official policy is to arrest the vigilante known as Batman on sight. If you got problems with malfunctioning equipment, I suggest you take them up with Maintenance, counselor. In this town, the fewer people know something, the safer the operation. If I didn\\'t work with cops you\\'d investigated while at IA, I\\'d be working alone. I don\\'t get political points for being an idealist. I do the best I can with what I have. Well, I can give you the names of the banks. Oh, you don\\'t have to sell me, Dent. We all know you\\'re Gotham\\'s white knight. I wouldn\\'t know about that. In China, Lau Security Investments stands for dynamic new growth. A joint Chinese venture with Wayne Enterprises will be a powerhouse. Well, Mr. Lau, I speak for the rest of the board... ...and Mr. Wayne, in expressing our own excitement. Sir, I know Mr. Wayne is curious about how his trust fund gets replenished, but... frankly, this is embarrassing. You worry about the diligence, Mr. Reese. I\\'ll worry about Bruce Wayne. It\\'s done. The numbers are solid. Do them again. Wouldn\\'t want the trust fund to run out, now, would we? Another long night? This joint venture was your idea, and the consultants love it. But I\\'m not convinced. Lau\\'s company has grown by eight percent annually like clockwork. His revenue stream must be off the books. Maybe even illegal. You already knew. Anything else you can trouble me for? Yeah. Three buttons is a little 90\\'s, Mr. Wayne. You wanna be able to turn your head. I\\'ll see what I can do. (with a Russian accent) How could you want to raise children in a city like this? I\\'m talking about the kind of city that idolizes a masked vigilante. Gotham needs heroes like you, elected officials, not a man who thinks he\\'s above the law. Someone like you, Mr. Dent? What if Harvey Dent is the Caped Crusader? Hm? As you\\'re all aware, one of our deposits was stolen. A relatively small amount. Sixty eight million. Who\\'s stupid enough to steal from us? Two-bit wackjob, wears a cheap purple suit and makeup. He\\'s not the problem. He\\'s a nobody. The problem is... our money being tracked by the cops. Thanks to Mr. Maroni\\'s well-placed sources, we know that police have indeed identified our banks using marked bills... ...and are planning to seize your funds today. And since the enthusiastic new DA has put all my competitors out of business... ...I\\'m your only option. So, what are you proposin\\'? Moving all deposits to one secure location, not a bank. Where, then? No one can know but me. If the police were to gain leverage over one of you, everyone\\'s money would be at stake. What stopping them getting to you? I go to Hong Kong, far from Dent\\'s jurisdiction and the Chinese will not extradite one of their own. How soon can you move the money? I already have. For obvious reasons, I couldn\\'t wait for your permission. Rest assured, your money is safe. And I thought my jokes were bad. (pointing at one of his goons) Give me one reason why I shouldn\\'t have my boy here pull your head off. How about a magic trick? I\\'m gonna make this pencil disappear. (yelling) Ta-da! (pulling up a chair) It\\'s... (spreading his fingers) Ah, it\\'s gone. Oh, and by the way, the suit, it wasn\\'t cheap. You ought to know, you bought it. Sit. (waves towards the clown) I want to hear proposition. Let\\'s wind the clocks back a year. These cops and lawyers wouldn\\'t dare cross any of you. I mean, w-what happened? D-Did your balls drop off? Hm? You see, a guy like me... Freak. Damn right. (low volume) A guy like me... Look, listen. (louder, licks his lips) I know why you choose to have your little... (clears throat) group-therapy sessions in broad daylight. I know why you\\'re afraid to go out at night. The Batman. See, Batman has shown Gotham your true colors, unfortunately. Dent? He\\'s just the beginning. Oh, and as for the television\\'s… so-called plan, Batman has no jurisdiction. He\\'ll find him and make him squeal. I know the squealers when I see them. And... What do you propose? It\\'s simple. We, uh, kill the Batman. (sarcastic) If it\\'s so simple, why haven\\'t you done it already? If you\\'re good at something, never do it for free. (nodding his head) How much you want? Uh... Half. (dumbfounded) You\\'re crazy. I\\'m not. No, I\\'m not. (clicks the T) If we don\\'t deal with this now... soon little... uh, Gambol... here won\\'t be able to get a nickel for his grandma. (slams against the table in frustration) Enough from the clown! (opening his jacket, stepping back) Ah, ta-ta-ta-ta. Let\\'s not blow... Shit! ...this out of proportion. (angry) You think you can steal from us and just walk away? Yeah. I\\'m putting the word out. Five hundred grand for this clown dead. A million alive, so I can teach him some manners first. All right. (waving his finger around) So, listen, why don\\'t you give me a call when you wanna start taking things a little more seriously? Here\\'s my card. All that was left in the vaults were marked bills. They knew we were coming. As soon as your office got involved... Don\\'t try and cloud the fact that clearly Maroni\\'s got people in your office, Dent. If I get him to you, can you get him to talk? We\\'re going after the Mob\\'s life savings. Things will get ugly. He does that. Our Chinese friends left town before I could tell them the deal was off. What\\'s wrong with a phone call? Now, for high-altitude jumps, you\\'re going to need oxygen and stabilizers. Well, I must say, compared to your usual requests, jumping out of an airplane is pretty straightforward. I\\'d recommend a good travel agent. (smiling) Now, that\\'s more like it, Mr. Wayne. The CIA had a program back in the sixties for getting their people out of hot spots called Sky Hook. We could look into that. Okay. Now... Hardened Kevlar plates over titanium-dipped tri-weave fibers for flexibility. You\\'ll be lighter, faster, more agile. (playfully uneasy) Perhaps you should read the instructions first? Now, there is a tradeoff. Separation of the plates makes you more vulnerable to knives and gunfire. We talking Rottweilers or Chihuahuas? (nods) Should do fine against cats. I found one in Arizona. A very nice man. Said he could have it up and running in a week, and he takes cash. What about the flight crew? (smiling) Oh, yes. (pointing over his shoulder) I believe this is your plane, sir. If you can tell me the Russian for: \"apply your own bloody suntan lotion.\" So, dead? That\\'s five hundred. How about alive? Hm? (leaning forward, whispering) You wanna know how I got these scars? (normal volume) My father was... a drinker... and a fiend. And one night, he goes off crazier than usual. Mommy gets the kitchen knife to defend herself. He doesn\\'t like that. Not... one... bit. So, me watching, he takes the knife to her, laughing while he does it. He turns to me and he says: \"Why so serious?\" He comes at me with the knife. (lifting the blade) \"Why so serious?\" He sticks the blade in my mouth. \"Let\\'s put a smile on that face.\" (almost in a sing-a-long tone) And... Why so serious? Now, our operation is small, but there is a lot of potential for... aggressive expansion. So which of you fine gentlemen would like to join our team? (holds up his hand) Oh. There\\'s only one spot open right now, so we\\'re gonna have... ...tryouts. Make it fast. I understand. Of course. I must apologize for leaving Gotham in the middle of our negotiations. This misunderstanding with the Gotham police force... I couldn\\'t let it threaten my company. Of course. A businessman of your stature will understand and, with you here now, we can continue. Well, I do appreciate you bringing me out here in such style, Mr. Lau, but I re... We do not allow cell phones in here. I\\'m sorry. Forgot I had it. No, I really came to tell you that our business deal has to be put on hold. You see, we can\\'t afford to be seen to do business with... whatever it is you\\'re accused of being. (as Lau stands up) I\\'m sure a businessman of your stature will understand. I think, Mr. Fox, a simple phone call might have sufficed. Mr. Wayne didn\\'t want you to think he was deliberately wasting your time. Just accidentally wasting it. That\\'s very good, Mr. Lau. \"Accidentally.\" Very good. (holding out Fox\\'s phone) Hey, sir. There\\'s a better view from the peak tram. Restricted. Lau is holed up in there good and tight. I had R&D work it up. Sends out a high-frequency pulse, records the response time for mapping an environment. Submarine, Mr. Wayne. Like a submarine. It\\'s in place. Mr. Wayne? Good luck. (In Chinese) Okay. Okay. (In Chinese, to a bodyguard) Go look. (In Chinese) Where the hell are the cops? (In Chinese) Coming. (In Chinese) What the hell am I paying them for? (In Chinese) Let go! Let go! I\\'ll give you anything if you let go! (In Chinese) Don\\'t shoot! (In Chinese) Don\\'t shoot! Don\\'t shoot! Money is the only reason I\\'m still alive. Are you threatening my client? Wait! I won\\'t give you the money, but I will give you my clients. All of them. I\\'m good with calculation. I handled all their investments. One big pot. Charge them with what? (interrupting, giving his demands) Immunity, protection and a chartered plane back to Hong Kong. Like I said, I\\'m good with calculation. He can\\'t go to County. I\\'ll keep him here in the holding cells. Well, you trust them over at County? Lau stays. (while eating) Put word out. We hire the clown. He was right. We have to fix real problem. Batman. (looking over to the TV) Our boy looks good on the tube. You sure you wanna embarrass me in front of my friends? Oh, don\\'t worry. They\\'re coming too. Have a nice trip. See you next fall. Seven hundred twelve counts of extortion. Eight hundred and forty-nine counts of racketeering. Two hundred and forty-six counts of fraud. Eighty-seven counts of conspiracy murder. Five hundred and twenty-seven counts of obstruction of justice. How do the defendants plead? Order in the court. Mr. Mayor, you can\\'t... No, get out. Both of you. (to Dent) Sit down. The public likes you. That\\'s the only reason that this might fly. But that means it\\'s on you. They\\'re all gonna come after you now, and not just the Mob. Politicians, journalists, cops. Anyone whose wallet\\'s about to get lighter. Are you up to it? You\\'d better be. Because they get anything on you and those criminals are back on the streets, followed swiftly by you and me. (stumbling back) Jesus! I think your fundraiser will be a great success, sir. I assumed it was your usual reason for socializing beyond myself and the scum of Gotham\\'s underbelly: to try to impress Miss Dawes. Tell them your name. Are you the real Batman? No? No?! Then why do you dress up like him?! Hoo-hoo-hoo-hoo! Yeah. You do, Brian. (grabbing Brian\\'s head) You really do. Huh? Yeah! (stroking his head) Oh, shush, shush, shush, shush…. So you think Batman\\'s made Gotham a better place? Hm? Look at me. (shouting) Look at me! You see, this is how crazy Batman\\'s made Gotham. You want order in Gotham? Batman must take off his mask and turn himself in. Oh, and every day he doesn\\'t, people will die. (beat) Starting tonight. I\\'m a man of my word. (holding a tray with drinks) A little liquid courage, Mr. Dent? That\\'s right, sir. Not yet, sir. (smiling) Oh, you have no idea. Lieutenant, that joker card pinned to the body? Forensics found three sets of DNA. Any matches? All three. The DNA belongs to Judge Surrillo, Harvey Dent and Commissioner Loeb. The Joker\\'s telling us who he\\'s targeting. Get a unit over to Surrillo\\'s house. Tell Wuertz to find Dent. Protective custody. Where\\'s the commissioner? City hall. Seal the building. No one in or out till I get there. Got it. Gordon. What are you up to? We\\'re secure. I want a floor-by-floor search of the entire building. (to Loeb) We believe the Joker\\'s made a threat against your life. These are dangerous people. You\\'re not giving me a lot of information. Even we don\\'t know where you\\'re going. Take the envelope, get in, open it. It\\'ll tell you where you\\'re headed. Gordon, you\\'re unlikely to discover this for yourself, so take my word, the police commissioner earns a lot of threats. I found the appropriate response to these situations a long time ago. You get to explain to my wife why I\\'m late for dinner. Sir, the joker card had traces of your DNA on it. How\\'d they get my DNA? Somebody with access to your office or house must have lifted a tissue or a glass... Wait! Wait! Oh, shit. Get a medic! We made it. Good evening, ladies and gentlemen. We are... tonight\\'s entertainment. (grabbing a saute, chewing on it) I only have one question: where is Harvey Dent? (slapping faces) You know where Harvey is? You know who he is? Hands up, pretty boy. Do you know where I can find Harvey? I need to talk to him. Just something little, huh? (shaking the guy\\'s head) No. What\\'s going on out there? Wayne! Hey, wait... You know, I\\'ll settle for his loved ones. You know... (shakily slamming the glass down on a table) You remind me of my father. I hated my father. (parting his green hair) Well, hello, beautiful. (pointing with the knife) You must be Harvey\\'s squeeze. Hm? And you are beautiful. Oh, you look nervous. Is it the scars? You wanna know how I got \\'em? Come here. Hey. Look at me. So I had a wife. Beautiful, like you. Who tells me... I worry too much. Who tells me I ought to smile more... Who gambles and gets in deep… with the sharks. Hey. One day, they carve her face. We have no money for surgeries. She can\\'t take it. I just wanna see her smile again. Hm? I just want her to know that I don\\'t care about the scars. So... I stick a razor in my mouth and do this... to myself. And you know what? She can\\'t stand the sight of me! She leaves. Now I see the funny side. Now I\\'m always smiling. (waving his knife) Got a little fight in you. I like that. Then you\\'re gonna love me. Drop the gun. Oh, sure. You just take off your little mask and show us all who you really are. Hm? Let her go. Very poor choice of words. Are you all right? He\\'s safe. Jim, it\\'s over. As long as they don\\'t get to Lau, we\\'ve cut off their funds. The prosecution\\'s over. Nobody\\'s standing up in front of a Judge while judges and police commissioners are getting blown away. What about Dent? He\\'s got any sense, Dent\\'s halfway to Mex... You can\\'t protect me. You can\\'t even protect yourselves. You crossed the line first. You squeezed them, you hammered them to the point of desperation. And in their desperation, they turned to a man they didn\\'t fully understand. With respect, Master Wayne, perhaps this is a man you don\\'t fully understand either. A long time ago, I was in Burma and my friends and I were working for the local government. They were trying to buy the loyalty of tribal leaders by bribing them with precious stones, but their caravans were being raided in a forest north of Rangoon by a bandit. So we went looking for the stones. But in six months, we never met anyone who traded with him. One day, I saw a child playing with a ruby, the size of a tangerine. The bandit had been throwing them away. Because he thought it was good sport? Because some men aren\\'t looking for anything logical, like money. They can\\'t be bought, bullied, reasoned or negotiated with. Some men just wanna watch the world burn. Your name, sir? Eighth and Orchard. You\\'ll find Harvey Dent there. Check the names. \"Richard Dent.\" \"Patrick Harvey.\" Harvey Dent. I need ten minutes with the scene before your men contaminate it. It\\'s because of you these guys are dead... Detective! Give us a minute, guys. That\\'s brick underneath. Gonna take ballistics off a shattered bullet? No. Fingerprints. Whatever you\\'re gonna do, do it fast. Because we found his next target. He\\'s put it in tomorrow\\'s paper. I\\'m not sure you made it loud enough, sir. What can I do for you, Mr. Reese? You wanted me to do the diligence on the LSI Holdings deal again? Well, I found some irregularities. Their CEO is in police custody. No, not with their numbers, with yours. Applied Sciences. Whole division of Wayne Enterprises just disappeared overnight. I went down to the archives and I started pulling some old files. Don\\'t tell me you didn\\'t recognize your baby pancaking cop cars on the evening news. Now you got the entire R&D Department burning through cash, claiming it\\'s related to cell phones for the Army? What are you building for him now, a rocket ship? I want... ten million dollars a year for the rest of my life. Let me get this straight. You think that your client, one of the wealthiest, most powerful men in the world, is secretly a vigilante, who spends his nights beating criminals to a pulp with his bare hands. And your plan is to blackmail this person? (smiling) Good luck. When... Keep that. This is your original scan. Here it is reengineered. I\\'ll get you a copy. Mr. Wayne, did you reassign R&D? Wasn\\'t aware we had any government contracts. Fair enough. I got one. Melvin White, 1502 Randolph Apartments. Aggravated assault, moved to Arkham twice. What do you got on the roof? Commissioner Loeb dedicated his life to law enforcement and to the protection of his community. I remember when I first took office and I asked if he wanted to stay on as commissioner. And he said he would, provided I kept my politics out of his office. Clearly he was not a man who minced words, nor should he have been. A number of policies that he enacted as commissioner were unpopular. Policies that flooded my office with angry calls and letters... And as we recognize the sacrifice of this man, we must remember that vigilance is the price of safety. Mr. Mayor. Get him out of here. No... I\\'m sorry, Barbara. Jimmy, go play with your sister. Go ahead, honey. If there\\'s anything we can do, anything you need, we\\'re here for you. Shh. Are you out there? Are you? You brought this craziness on us! You did! You brought this on us! Switch it off, he ain\\'t coming. He doesn\\'t wanna talk to us. (when it\\'s turned off) God help whoever he does wanna talk to. Can\\'t we go someplace quieter? We can\\'t hear each other talk. What makes you think I wanna hear you talk? What? I want the Joker. From one professional to another, you\\'re trying to scare somebody, pick a better spot. From this height, the fall wouldn\\'t kill me. I\\'m counting on it. Where is he? I don\\'t know where he is. He found us. He must have friends. Friends? Have you met this guy? Someone knows where he is. Nobody\\'s gonna tell you nothing. They\\'re wise to your act. You got rules. The Joker, he\\'s got no rules. Nobody\\'s gonna cross him for you. If you want this guy, you got one way. But you already know what that is. Just take off that mask, let him come find you. Or you can let a couple more people get killed while you make up your mind. You\\'d leave a man\\'s life to chance? His name\\'s Schiff, Thomas. He\\'s a paranoid schizophrenic, former patient at Arkham. The kind of mind the Joker attracts. What do you expect to learn from him? You\\'re the symbol of hope I could never be. Your stand against organized crime is the first legitimate ray of light in Gotham in decades. If anyone saw this, everything would be undone. The criminals you arrested would be released and Jim Gordon will have died for nothing. You\\'re gonna hold a press conference tomorrow. No one else will die because of me. Gotham\\'s in your hands now. Logs as well? (walking towards Bruce) Endure, Master Wayne. Take it. They\\'ll hate you for it, but that\\'s the point of Batman. He can be the outcast. He can make the choice that no one else can make. The right choice. Today, I don\\'t want to. But I did bloody tell you. I suppose they\\'re gonna lock me up as well, as your accomplice. You\\'d rather protect an outlaw vigilante than the lives of citizens? Yeah! Give us the Batman! Come on! Where is he? What? Is he here? What? Come on. He went down to the press conference. Perhaps both Bruce and Mr. Dent believe that Batman stands for something more important than the whims of a terrorist, Miss Dawes. Even if everyone hates him for it. That\\'s the sacrifice he\\'s making. He\\'s not being a hero. He\\'s being something more. I do. How will I know? Bye, Rachel. Hey, you wait like everybody else, pal.[Cop is shot by joker\\'s goon] (curiously)Hhmm Harvey, Harvey, Harvey Dent. Oh, excuse me. I wanna drive.[joker steals the 18 wheeler to chase Havey inside the SWAT vehicle] I like this job. I like it. Okay, rack \\'em up. Rack \\'em up, rack \\'em up, rack \\'em up. Now, there\\'s a Batman. Ooh, you wanna play. Come on. Come on. Come on, come on. Come on. Come on. I want you to do it, I want you to do it. Come on! Come on. Come on, come on. I want you to do it, I want you to do it. Come on, hit me. Hit me, hit me. Come on, hit me! Hit me! Come on, come on. Could you please just give me a minute? We got you, you son of a bitch. We got him, Harvey. Mr. Dent! How does it feel to be the biggest hero in Gotham? But you and your office have been working with the Batman all along. Which was? All right, people, that\\'s enough. Let him be. Let him be. I figured, counselor. Mr. Dent, sir, how about one for the front page, sir? Mr. Dent. Stand away! All of you! I don\\'t want anything for his Mob lawyer to use, you understand? Back from the dead? I, uh, couldn\\'t risk my family\\'s safety. What do we got? Nothing. No matches on prints, DNA, dental. Clothing is custom, no labels. Nothing in his pockets but knives and lint. No name. No other alias. Go home, Gordon. The clown\\'ll keep till morning. Go get some rest. You\\'re gonna need it. Tomorrow you take the big job. You don\\'t have any say in the matter. Commissioner Gordon. I\\'m sorry, I couldn\\'t risk your safety. I don\\'t feel good. Please! My insides hurt. Did Batman save you, Daddy? Actually, this time... I saved him. Has he said anything yet? Evening, Commissioner. Harvey Dent never made it home. Of course not. What have you done with him? Me? I was right here. (pointing) Who did you leave him with? Hm? Your people? Assuming, of course, that they are still your people… and not Maroni\\'s. Does it depress you, Commissioner, to know... just how alone you really are? Does it make you feel responsible for Harvey Dent\\'s current predicament? Where is he? What\\'s the time? What difference does that make? Well, depending on the time, he may be in one spot or several. If we\\'re gonna play games... Mm-hmm. ...I\\'m gonna need a cup of coffee. Ah... The \"good cop, bad cop\" routine? Not exactly. Never start with the head. The victim gets all fuzzy. He can\\'t feel the next... See? You wanted me. Here I am. I wanted to see what you\\'d do. And you didn\\'t disappoint. You let five people die. Then... you let Dent take your place. Even to a guy like me, that\\'s cold. Where\\'s Dent? Those Mob fools want you gone so they can get back... (twirling his fingers) to the way things were. But I know the truth. There\\'s no going back. You\\'ve changed things. Forever. Then why do you wanna kill me? (laughing) I-I don\\'t wanna kill you. What would I do without you? Go back to ripping off Mob dealers? No, no. No. No, you... You complete me. You\\'re garbage who kills for money. Don\\'t talk like one of them. You\\'re not. Even if you\\'d like to be. To them, you\\'re just a freak... like me. They need you right now. But when they don\\'t, they\\'ll cast you out. Like a leper. You see, their morals, their code... it\\'s a bad joke. Dropped at the first sign of trouble. They\\'re only as good as the world allows them to be. I\\'ll show you. When the chips are down... these, uh, these civilized people, they\\'ll eat each other. See, I\\'m not a monster. (leaning forward) I\\'m just ahead of the curve. Where\\'s Dent?! You have all these rules, and you think they\\'ll save you? He\\'s in control. I have one rule. Oh. Then that\\'s the rule you\\'ll have to break to know the truth. Which is?! The only sensible way to live is without rules. And tonight you\\'re gonna break your one rule. I\\'m considering it. There\\'s only minutes left, so you\\'ll have to play my game if you wanna save one of them. (confused, breathing heavily) \"Them\"? You know, for a while there… (pulling himself up) I thought you really were Dent. The way you threw yourself after her. Look at you go! (groans) Does Harvey know about you and his little bunny? Where are they?! Killing is making a choice. Where are they?! Choose between one life or the other. Your friend the district attorney, or his blushing bride-to-be. You have nothing, nothing to threaten me with! Nothing to do, with all your strength! Don\\'t worry, I\\'m gonna tell you where they are. Both of them. And that\\'s the point. You\\'ll have to choose. (thinking) He\\'s at 250 52nd Street... and she\\'s, uh, on Avenue X at Cicero. Which one you going after? Rachel! We\\'re getting Dent! 250 52nd Street! I want... my phone call. I want it. I want it! I want my phone call! (guarding the door) That\\'s nice. How many of your friends have I killed? I\\'m a twenty-year man and I know the difference between punks who need a lesson in manners and the freaks like you who just enjoy it. And you killed six of my friends. [mouths] Six? Please. My insides hurt! The boss said he\\'d make the voices go away. He said he\\'d go inside and replace them with bright lights... (laughs weezily) Like Christmas. (over the police radio) All available units, converge at 250 52nd Street. Do you wanna know why I use a knife? Guns are too quick. (twirling his fingers) You can\\'t savor all the... little... emotions. You see... in their last moments, people show you who they really are. So in a way, I knew your friends better than you ever did. Would you like to know which of them were cowards? He\\'s got some kind of... contusion. I know you\\'re gonna enjoy this. I\\'m gonna have to try and enjoy it even more. It\\'s my own damn fault, just shoot him! What? Sorry? I just want my phone call. Shh, shh, shh... Right. Mount the curb! No, commissioner! Hello there. Back at the MCU, the Joker\\'s gone. With Lau? The Joker planned to be caught. He wanted me to lock him up in the MCU. I\\'m sorry, Harvey. Prepared a little breakfast. Very well, then. Yes, Master Wayne? You have inspired good. But you spat in the faces of Gotham\\'s criminals. Didn\\'t you think there might be casualties? Things always get worse before they get better. Rachel believed in what you stood for. What we stand for. Gotham needs you. Which is why, for now, they\\'re gonna have to make do with you. It can wait. Yes. We burned the forest down. I\\'m sorry about Rachel. (beat) The doctor says you\\'re in agonizing pain, but that you won\\'t accept medication. That you\\'re refusing to accept... skin grafts. Harvey, I... Two-Face. Harvey Two-Face... I know you tried to warn me. I\\'m sorry. Wuertz picked you up. Was he working for them? Do you know who picked up Rachel? Harvey, I need to know which of my men I can trust. I\\'m sorry, Harvey. This craziness, it\\'s too much. Should\\'ve thought about that before you let the clown out of the box. You want him? I can tell you where he\\'ll be this afternoon. (smiling) Not so crazy as you look. I told you, I\\'m a man of my word. (looking around) Where is the Italian? All tactical units will converge on the location in twenty minutes. I want auxiliary units to cover all possible getaway routes. Please. Yo, Joker-man... What you do with all your money? You see, I\\'m a guy of simple taste. (waving his arms) I enjoy, uh, dynamite, gunpowder... (louder) ...and gasoline. What the... (raising his gun) A-pa-pa-pa... (walking up to the Chechen) And you know the thing that they have in common? They\\'re cheap. How much are they paying you to say who Batman is? This is our chance. I want Lau alive. The Joker, either way. Hey, Jim. Get a load of this. Harvey Dent didn\\'t wanna give in to this maniac. You think you know better? I think that if we could talk to Dent today, he may feel differently. You said you were a man of your word. Oh, I am. I\\'m only burning my half. All you care about is money. This town deserves a better class of criminal... and I\\'m gonna give it to \\'em. Tell your men they work for me now. This is my city. (angry) They won\\'t work... for a freak. \"Freak?\" (drawing his knife) Why don\\'t we cut you up into little pieces and feed you to your pooches? Hm? And then we\\'ll see how loyal a hungry dog really is! It\\'s not about money. It\\'s about sending a message. (dialing a number) \"Everything burns\". I had a vision... of a world without Batman. The Mob ground out a little profit and the police tried to shut them down one block at a time. And it was so... boring. I\\'ve had a change of heart. I don\\'t want Mr. Reese spoiling everything, but why should I have all the fun? Let\\'s give someone else a chance. If Coleman Reese isn\\'t dead in sixty minutes, then I blow up a hospital. Call in every officer. Tell them to head to their nearest hospital and start evac and search. Call the transit authority, school board, prisons. Get every bus down to a hospital. The priority is Gotham General. Wheel everybody out of that place right now. (pointing) You, you and you, you come with me. To get Reese. Looking for? Will you be wanting the Batpod? The Lamborghini, then. (to himself) Much more subtle. Get the cars around the back! No immediate family member admitted to a Gotham hospital. They\\'re trying to kill me. Well, maybe Batman can save you. Nothing on them. Okay, so, what now? What do we do now? Where are we going? It\\'s Berg, isn\\'t it? Commissioner. You okay, son? (to himself) Cadang-cadang-cadang-cadang... (breathes out, smiling) Hi. You know... I don\\'t want there to be any hard feelings between us, Harvey. When you and… um, uh... ...Rachel were being abducted, I was sitting in Gordon\\'s cage. I-I didn\\'t rig those charges. Do I really look like a guy with a plan? You know what I am? I\\'m a dog chasing cars. (shaking his hands) I wouldn\\'t know what to do with one if I... caught it. You know? I just do things. The Mob has plans. The cops have plans. Gordon\\'s got plans. You know... They\\'re schemers. Schemers trying to control their little worlds. I\\'m not a schemer. I try to show the schemers how pathetic their attempts to control things really are. So... when I say... Ah. Come here. When I say that you and your girlfriend was nothing personal, you\\'ll know that I\\'m telling the truth. I\\'m gonna need your weapon. What? Why? Because my wife\\'s in the hospital? Yeah, that\\'d be why. It\\'s the schemers that put you where you are. You were a schemer, you had plans… and, uh... look where that got ya. I just did what I do best. (waving, sing-a-long tone) I took your little plan and I turned it on itself. (looking up) Look what I did to this city with a few drums of gas and a couple of bullets. Hm? You know… You know what I noticed? Nobody panics when things go \"according to plan.\" Even if the plan is horrifying. If tomorrow I tell the press that, like, a gangbanger will get shot, or a truckload of soldiers will be blowing up, nobody panics. Because it\\'s all part of the plan. But when I say that one little old mayor will die... well, then, everyone loses their minds. Introduce a little anarchy. (arming the gun) Upset the established order and everything becomes chaos. I\\'m an agent of chaos. Oh, and you know the thing about chaos? (waving his finger) It\\'s fair. Mm-hmm… Hmm… Now we\\'re talking. Mr. Reese... That\\'s Mr. Wayne, isn\\'t it? That was a very brave thing you did. You weren\\'t protecting the van? You don\\'t watch a whole lot of news, do you, Mr. Wayne? (whipsering explosion) Boom! Southeast. It\\'s Gotham General. Did you clear the building? You must know how many were inside. You have patient lists, roll call. What\\'s your guess about where Harvey Dent is? Keep looking. And keep it to yourself. Anybody asks, we got him out. Get me the mayor\\'s office on the line. We\\'re gonna need the National Guard. Bench. Game. Mine. Rules. Get out now. Sweet Jesus. Shouldn\\'t you be out there? You know, doing something? It\\'s my day off. I gotta take a leak. Keep an eye out for me, will you? Now what? Need someone to shake it for you? Dent. Jesus, I thought you was dead... It must\\'ve been Maroni\\'s men. I don\\'t know, he never told me! Listen, Dent, I-I swear to God, I didn\\'t know what they were gonna do to you! Beautiful, isn\\'t it? Beautiful… unethical... dangerous. You\\'ve turned every cell phone in Gotham into a microphone. And a high-frequency generator-receiver. You took my sonar concept and applied it to every phone in the city. With half the city feeding you sonar, you can image all of Gotham. This is wrong. I\\'ve gotta find this man, Lucius. At what cost? The database is null-key encrypted. It can only be accessed by one person. This is too much power for one person. That\\'s why I gave it to you. Only you can use it. Spying on thirty million people isn\\'t part of my job description. This is an audio sample. If he talks within range of any phone in the city, you can triangulate his position. I\\'ll help you this one time. But consider this my resignation. As long as this machine is at Wayne Enterprises, I won\\'t be. When you\\'re finished... type in your name. My officers are going over every inch of the tunnels and bridges, but with the Joker\\'s threat, they\\'re not an option. And land routes east? Backed up for hours. Which leaves the ferries with thirty thousand ready to board. I wanna use the ferries so I can get those prisoners off the island. The men you put away? Those aren\\'t people I\\'m worried about. You should be. Whatever the Joker\\'s planning, it\\'s a good bet Harvey\\'s prisoners are involved. I wanna get them out of here. So where is Harvey? We haven\\'t found him. Oh, Jesus. How long can you keep this quiet? (to his driver) Don\\'t stop for lights, cops, nothing. Yes. Look, take it up with the Joker. He killed your woman. He made you... like this. Look, if I tell you... will you let me go? (smiling) It was Ramirez. But you said-! Who? Hey, that ain\\'t right. We should be on that boat. You wanna ride across with them? Be my guest. Fox. There\\'s something going on on the ferries. Tonight, you\\'re all gonna be a part of a social experiment. Through the magic of diesel fuel and ammonium nitrate, I\\'m ready right now to blow you all sky-high. If anyone attempts to get off their boat, you all die. I\\'m zeroing in. Each of you has a remote to blow up the other boat. His voice is on the ferry, but it\\'s not the source. West. I have the Joker\\'s location. Prewitt Building. Assemble on the building opposite. At midnight, I blow you all up. If, however, one of you presses the button, I\\'ll let that boat live. So who\\'s it gonna be? Harvey Dent\\'s most-wanted scumbag collection or the sweet and innocent civilians? You choose. Oh, and you might wanna decide quickly, because the people on the other boat may not be quite so noble. Well, now, who are you to decide? We ought to talk this over, at least. We don\\'t all have to die. Those men had their chance. (each sentence a different civilan)Why aren\\'t we talking about it? They\\'re talking over the same thing on the other boat. Let\\'s put it to a vote. Yes! Hello? Barbara, it\\'s Anna Ramirez. Jim needs you to pack up and put the kids in the car right away. But the units outside... Those cops can\\'t be trusted. Jim needs you away from them as soon as possible. (shaky voice) I\\'ll call them off for ten minutes, and you\\'ll have to move fast. But where am I supposed to take them? 250 52nd Sweet. Leave as soon as the patrol car pulls out. Okay. I didn\\'t know... (stammering, terrified) They got me early on... my mother\\'s hospital bills... I\\'m sorry. We found the missing hospital bus. Then we have a hostage situation. It\\'s a shooting gallery. Why would he choose a spot with such big windows? We have clear shots on five clowns. Snipers take them out, smash the windows, a team rappels in. Team moves in by the stairwells. Two, three casualties max. Let\\'s do it. It\\'s not that simple. With the Joker, it never is. (frustrated) What\\'s simple is, every second, those people on the ferries get closer to blowing... That won\\'t happen. Then he\\'ll blow both of them up! (in the background)Thank you. Anybody else? Coming through. Anybody else? Thank you. Come on. What are you waiting for? Push the button! We\\'re running out of time! I need five minutes alone. No! There\\'s no time! We have clear shots! Dent is in there with them! We have to save Dent! I... have to save Dent. (to his men) Get ready. Two minutes, then we breach. Fox, I need picture. Hello? Jim, we\\'re in trouble. Okay, you got POV on alpha, omni on beta. Looks like clowns and hostages on two floors. There\\'s a SWAT team on the stairwell. Another SWAT team on the roof. Line\\'s clear. Barbara, calm down. (terrified) He has the kids! Harvey? Where\\'s my family? Blue team, acquire the target. Entry team, set your charge. Fox, the SWATs are targeting the wrong people. The clowns are the hostages. Red team, go! Red team, go! Entry team, blow and go! Don\\'t move. Take the shot. Those SWATs are coming in hot. Freeze! Stand down or you will be... Look up. See those bad guys on the floor above? They\\'re waiting to ambush the SWAT team coming up the elevator. Sixty seconds. Go, go, go! Blue team, cover! Trouble on the floor above. Be advised. Clowns are hostages, doctors are targets. Ah, you made it. I\\'m so thrilled. Where\\'s the detonator? (to the dogs) Go get him. Put down your weapon! Don\\'t move! No one wants to get their hands dirty. Fine. I\\'ll do it. Those men on that boat? They made their choices. They chose to murder and steal. It doesn\\'t make any sense for us to have to die too. All the old familiar places... Stand by. Red team, floor secure. Hostages are safe. We really should stop this fighting, otherwise we\\'ll miss the fireworks. (grunting, gasping for breath) There won\\'t be any fireworks. (waving his hand) And here... we... go. What were you trying to prove? That deep down... everyone\\'s as ugly as you? You\\'re alone. Ugh… You can\\'t rely on anyone these days. You gotta do everything yourself. Don\\'t we?! That\\'s okay. I came prepared. It\\'s a funny world we live in. (pointing towards his face) Speaking of which, you know how I got these scars? No, but I know how you got these. Oh, oh... Oh, you... You just couldn\\'t let me go, could you? This is what happens when an unstoppable force... meets... an immovable object. You... truly are... incorruptible, aren\\'t you? Huh?! You won\\'t kill me out of some misplaced sense of self-righteousness. And I won\\'t kill you because you\\'re just too much fun. I think you and I... are destined to do this forever. You\\'ll be in a padded cell forever. Maybe we could share one. You know, they\\'ll be doubling up, the rate this city\\'s inhabitants are losing their minds. This city just showed you that it\\'s full of people ready to believe in good. (waving his finger) Until their spirit breaks completely. Until they get a good look at the real Harvey Dent… Huh? And all the heroic things he\\'s done. You didn\\'t think I\\'d risk losing the battle for Gotham\\'s soul in a fistfight with you? No... You need an ace in the hole. Mine\\'s Harvey. What did you do? I took Gotham\\'s white knight and I... brought him down to our level. It wasn\\'t hard. See, madness, as you know, is... like gravity. All it takes is a little push. Dent! I know, I was here... trying to save her. I couldn\\'t. I was trying to fight the Mob! You\\'re not going to hurt my family. Put the gun down, Harvey. Harvey, put down the gun. Please. Please, Harvey. Please. Oh, goddamnit, will you stop pointing that gun at my family?! No! No, Jim, stop him! Harvey! Don\\'t let him... Harvey! I\\'m sorry! For everything! Please don\\'t hurt my son. All they know is there\\'s a situation. They don\\'t know who or what. They\\'re just creating a perimeter. You don\\'t wanna hurt the boy, Harvey. What happened to Rachel wasn\\'t chance. We decided to act. We three. (sad) It wasn\\'t... Because you were the best of us. He wanted to prove that even someone as good as you could fall. You\\'re the one pointing the gun, Harvey. So point it at the people responsible! Harvey, you\\'re right. Rachel\\'s death was my fault. Please don\\'t punish the boy. Please, punish me. (whispering) It\\'s going to be alright, son. Dad? Daddy, is he okay? Thank you. (looking down) You don\\'t have to thank me. Yes, I do. (also looking down) The Joker won. Harvey\\'s prosecution, everything he fought for... undone. Whatever chance you gave us at fixing our city dies with Harvey\\'s reputation. We bet it all on him. The Joker took the best of us and tore him down. People will lose hope. They won\\'t. They must never know what he did. Five dead? Two of them cops? You can\\'t sweep that... No. But the Joker cannot win. Gotham needs its true hero. No. (panting) You either die a hero... or you live long enough… to see yourself become the villain. I can do those things, because I\\'m not a hero, not like Dent. I killed those people. That\\'s what I can be. No, no, you can\\'t. You\\'re not! I\\'m whatever Gotham needs me to be. Call it in. A hero. Not the hero we deserved, but the hero we needed. Nothing less than a knight... shining. They\\'ll hunt you. You\\'ll hunt me. You\\'ll condemn me. Set the dogs on me. Because that\\'s what needs to happen. Because sometimes... the truth isn\\'t good enough. Sometimes people deserve more. Sometimes people deserve to have their faith rewarded. Batman? Batman! Why\\'s he running, Dad? Because we have to chase him. Okay, we\\'re going in! Go, go! Move! He didn\\'t do anything wrong. Because he\\'s the hero Gotham deserves, but not the one it needs right now. So we\\'ll hunt him... Because he can take it. Because he\\'s not a hero. He\\'s a silent guardian, a watchful protector. A dark knight.'"
      ]
     },
     "execution_count": 38,
     "metadata": {},
     "output_type": "execute_result"
    }
   ],
   "source": [
    "dialogues = pd.read_csv(\"joker.csv\")\n",
    "dialogues\n",
    "s = \"\"\n",
    "for ind,row in dialogues.iterrows():\n",
    "    s = s + row[\"line\"]\n",
    "s"
   ]
  },
  {
   "cell_type": "code",
   "execution_count": null,
   "id": "d33f7dfb",
   "metadata": {},
   "outputs": [],
   "source": []
  }
 ],
 "metadata": {
  "kernelspec": {
   "display_name": "geo_env",
   "language": "python",
   "name": "geo_env"
  },
  "language_info": {
   "codemirror_mode": {
    "name": "ipython",
    "version": 3
   },
   "file_extension": ".py",
   "mimetype": "text/x-python",
   "name": "python",
   "nbconvert_exporter": "python",
   "pygments_lexer": "ipython3",
   "version": "3.10.4"
  }
 },
 "nbformat": 4,
 "nbformat_minor": 5
}
